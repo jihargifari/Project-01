{
 "cells": [
  {
   "cell_type": "markdown",
   "metadata": {},
   "source": [
    "# Order Cancellation Prediction\n",
    "In this Chapter, I am going to do one of a supervised learning in Machine Learning Projects. I am going to build a machine that will be able to classifies which order is going to be cancelled by the characteristics of the order itself. The benefits of this projects for business process is as follows:\n",
    "1. Help product manager to set a lower limit for general stocks based on number of cancellation predicted\n",
    "2. Reduce cost specifically in marketing and customer services in terms of time, focus, and energy.\n",
    "3. Improve Customer Services Quality\n",
    "\n",
    "Here are the steps that I took in finishing this Classification Projects :\n",
    "1. Data Cleaning\n",
    "    - Creating Target Feature : \"cancellation_list\"\n",
    "    - Create Dummies Variable for K-Means Cluster\n",
    "2. EDA (Minor)\n",
    "    - Cancellation Proportion on Datasets\n",
    "3. Model Deployment\n",
    "    - Data Preparation :\n",
    "    - Data Splitting\n",
    "    - Fitting Model with train data and Predicting Model with Test Data\n",
    "    - Model Visualization and Evaluation :\n",
    "4. Model Optimization :\n",
    "    - Handling Imbalance Data with Oversampling (SMOTE) and undersampling (NearMiss)\n",
    "    - Hyperparameter Tuning (RandomizedSearchCV)\n"
   ]
  },
  {
   "cell_type": "code",
   "execution_count": 1,
   "metadata": {},
   "outputs": [],
   "source": [
    "import pandas as pd\n",
    "import numpy as np\n",
    "import matplotlib.pyplot as plt\n",
    "import seaborn as sns"
   ]
  },
  {
   "cell_type": "code",
   "execution_count": 7,
   "metadata": {
    "scrolled": true
   },
   "outputs": [
    {
     "data": {
      "text/html": [
       "<div>\n",
       "<style scoped>\n",
       "    .dataframe tbody tr th:only-of-type {\n",
       "        vertical-align: middle;\n",
       "    }\n",
       "\n",
       "    .dataframe tbody tr th {\n",
       "        vertical-align: top;\n",
       "    }\n",
       "\n",
       "    .dataframe thead th {\n",
       "        text-align: right;\n",
       "    }\n",
       "</style>\n",
       "<table border=\"1\" class=\"dataframe\">\n",
       "  <thead>\n",
       "    <tr style=\"text-align: right;\">\n",
       "      <th></th>\n",
       "      <th>InvoiceNo</th>\n",
       "      <th>InvoiceDate</th>\n",
       "      <th>Date</th>\n",
       "      <th>Years</th>\n",
       "      <th>Months</th>\n",
       "      <th>Days</th>\n",
       "      <th>Hours</th>\n",
       "      <th>DayOfMonth</th>\n",
       "      <th>StockCode</th>\n",
       "      <th>Description</th>\n",
       "      <th>Quantity</th>\n",
       "      <th>UnitPrice</th>\n",
       "      <th>CustomerID</th>\n",
       "      <th>Country</th>\n",
       "      <th>TotalCost</th>\n",
       "      <th>K-Means_Cluster</th>\n",
       "    </tr>\n",
       "  </thead>\n",
       "  <tbody>\n",
       "    <tr>\n",
       "      <td>0</td>\n",
       "      <td>536365</td>\n",
       "      <td>2010-12-01 08:26:00</td>\n",
       "      <td>2010-12-01</td>\n",
       "      <td>2010</td>\n",
       "      <td>12</td>\n",
       "      <td>3</td>\n",
       "      <td>8</td>\n",
       "      <td>1</td>\n",
       "      <td>85123A</td>\n",
       "      <td>WHITE HANGING HEART T-LIGHT HOLDER</td>\n",
       "      <td>6</td>\n",
       "      <td>2.55</td>\n",
       "      <td>17850</td>\n",
       "      <td>United Kingdom</td>\n",
       "      <td>15.30</td>\n",
       "      <td>Group 4</td>\n",
       "    </tr>\n",
       "    <tr>\n",
       "      <td>1</td>\n",
       "      <td>536366</td>\n",
       "      <td>2010-12-01 08:28:00</td>\n",
       "      <td>2010-12-01</td>\n",
       "      <td>2010</td>\n",
       "      <td>12</td>\n",
       "      <td>3</td>\n",
       "      <td>8</td>\n",
       "      <td>1</td>\n",
       "      <td>22633</td>\n",
       "      <td>HAND WARMER UNION JACK</td>\n",
       "      <td>6</td>\n",
       "      <td>1.85</td>\n",
       "      <td>17850</td>\n",
       "      <td>United Kingdom</td>\n",
       "      <td>11.10</td>\n",
       "      <td>Group 4</td>\n",
       "    </tr>\n",
       "    <tr>\n",
       "      <td>2</td>\n",
       "      <td>536367</td>\n",
       "      <td>2010-12-01 08:34:00</td>\n",
       "      <td>2010-12-01</td>\n",
       "      <td>2010</td>\n",
       "      <td>12</td>\n",
       "      <td>3</td>\n",
       "      <td>8</td>\n",
       "      <td>1</td>\n",
       "      <td>84879</td>\n",
       "      <td>ASSORTED COLOUR BIRD ORNAMENT</td>\n",
       "      <td>32</td>\n",
       "      <td>1.69</td>\n",
       "      <td>13047</td>\n",
       "      <td>United Kingdom</td>\n",
       "      <td>54.08</td>\n",
       "      <td>Group 4</td>\n",
       "    </tr>\n",
       "    <tr>\n",
       "      <td>3</td>\n",
       "      <td>536368</td>\n",
       "      <td>2010-12-01 08:34:00</td>\n",
       "      <td>2010-12-01</td>\n",
       "      <td>2010</td>\n",
       "      <td>12</td>\n",
       "      <td>3</td>\n",
       "      <td>8</td>\n",
       "      <td>1</td>\n",
       "      <td>22960</td>\n",
       "      <td>JAM MAKING SET WITH JARS</td>\n",
       "      <td>6</td>\n",
       "      <td>4.25</td>\n",
       "      <td>13047</td>\n",
       "      <td>United Kingdom</td>\n",
       "      <td>25.50</td>\n",
       "      <td>Group 4</td>\n",
       "    </tr>\n",
       "    <tr>\n",
       "      <td>4</td>\n",
       "      <td>536369</td>\n",
       "      <td>2010-12-01 08:35:00</td>\n",
       "      <td>2010-12-01</td>\n",
       "      <td>2010</td>\n",
       "      <td>12</td>\n",
       "      <td>3</td>\n",
       "      <td>8</td>\n",
       "      <td>1</td>\n",
       "      <td>21756</td>\n",
       "      <td>BATH BUILDING BLOCK WORD</td>\n",
       "      <td>3</td>\n",
       "      <td>5.95</td>\n",
       "      <td>13047</td>\n",
       "      <td>United Kingdom</td>\n",
       "      <td>17.85</td>\n",
       "      <td>Group 4</td>\n",
       "    </tr>\n",
       "  </tbody>\n",
       "</table>\n",
       "</div>"
      ],
      "text/plain": [
       "  InvoiceNo          InvoiceDate        Date  Years  Months  Days  Hours  \\\n",
       "0    536365  2010-12-01 08:26:00  2010-12-01   2010      12     3      8   \n",
       "1    536366  2010-12-01 08:28:00  2010-12-01   2010      12     3      8   \n",
       "2    536367  2010-12-01 08:34:00  2010-12-01   2010      12     3      8   \n",
       "3    536368  2010-12-01 08:34:00  2010-12-01   2010      12     3      8   \n",
       "4    536369  2010-12-01 08:35:00  2010-12-01   2010      12     3      8   \n",
       "\n",
       "   DayOfMonth StockCode                         Description  Quantity  \\\n",
       "0           1    85123A  WHITE HANGING HEART T-LIGHT HOLDER         6   \n",
       "1           1     22633              HAND WARMER UNION JACK         6   \n",
       "2           1     84879       ASSORTED COLOUR BIRD ORNAMENT        32   \n",
       "3           1     22960            JAM MAKING SET WITH JARS         6   \n",
       "4           1     21756            BATH BUILDING BLOCK WORD         3   \n",
       "\n",
       "   UnitPrice  CustomerID         Country  TotalCost K-Means_Cluster  \n",
       "0       2.55       17850  United Kingdom      15.30         Group 4  \n",
       "1       1.85       17850  United Kingdom      11.10         Group 4  \n",
       "2       1.69       13047  United Kingdom      54.08         Group 4  \n",
       "3       4.25       13047  United Kingdom      25.50         Group 4  \n",
       "4       5.95       13047  United Kingdom      17.85         Group 4  "
      ]
     },
     "execution_count": 7,
     "metadata": {},
     "output_type": "execute_result"
    }
   ],
   "source": [
    "data = pd.read_csv(\"E-commerce_data_after_clustering.csv\")\n",
    "data.head()"
   ]
  },
  {
   "cell_type": "code",
   "execution_count": 66,
   "metadata": {
    "scrolled": true
   },
   "outputs": [
    {
     "data": {
      "text/html": [
       "<div>\n",
       "<style scoped>\n",
       "    .dataframe tbody tr th:only-of-type {\n",
       "        vertical-align: middle;\n",
       "    }\n",
       "\n",
       "    .dataframe tbody tr th {\n",
       "        vertical-align: top;\n",
       "    }\n",
       "\n",
       "    .dataframe thead th {\n",
       "        text-align: right;\n",
       "    }\n",
       "</style>\n",
       "<table border=\"1\" class=\"dataframe\">\n",
       "  <thead>\n",
       "    <tr style=\"text-align: right;\">\n",
       "      <th></th>\n",
       "      <th>InvoiceNo</th>\n",
       "      <th>InvoiceDate</th>\n",
       "      <th>Date</th>\n",
       "      <th>Years</th>\n",
       "      <th>Months</th>\n",
       "      <th>Days</th>\n",
       "      <th>Hours</th>\n",
       "      <th>DayOfMonth</th>\n",
       "      <th>StockCode</th>\n",
       "      <th>Description</th>\n",
       "      <th>Quantity</th>\n",
       "      <th>UnitPrice</th>\n",
       "      <th>CustomerID</th>\n",
       "      <th>Country</th>\n",
       "      <th>TotalCost</th>\n",
       "      <th>K-Means_Cluster</th>\n",
       "      <th>cancellation_list</th>\n",
       "    </tr>\n",
       "  </thead>\n",
       "  <tbody>\n",
       "    <tr>\n",
       "      <td>16</td>\n",
       "      <td>C536379</td>\n",
       "      <td>2010-12-01 09:41:00</td>\n",
       "      <td>2010-12-01</td>\n",
       "      <td>2010</td>\n",
       "      <td>12</td>\n",
       "      <td>3</td>\n",
       "      <td>9</td>\n",
       "      <td>1</td>\n",
       "      <td>D</td>\n",
       "      <td>Discount</td>\n",
       "      <td>-1</td>\n",
       "      <td>27.50</td>\n",
       "      <td>14527</td>\n",
       "      <td>United Kingdom</td>\n",
       "      <td>-27.50</td>\n",
       "      <td>Outlier</td>\n",
       "      <td>1</td>\n",
       "    </tr>\n",
       "    <tr>\n",
       "      <td>18</td>\n",
       "      <td>C536383</td>\n",
       "      <td>2010-12-01 09:49:00</td>\n",
       "      <td>2010-12-01</td>\n",
       "      <td>2010</td>\n",
       "      <td>12</td>\n",
       "      <td>3</td>\n",
       "      <td>9</td>\n",
       "      <td>1</td>\n",
       "      <td>35004C</td>\n",
       "      <td>SET OF 3 COLOURED  FLYING DUCKS</td>\n",
       "      <td>-1</td>\n",
       "      <td>4.65</td>\n",
       "      <td>15311</td>\n",
       "      <td>United Kingdom</td>\n",
       "      <td>-4.65</td>\n",
       "      <td>Outlier</td>\n",
       "      <td>1</td>\n",
       "    </tr>\n",
       "    <tr>\n",
       "      <td>26</td>\n",
       "      <td>C536391</td>\n",
       "      <td>2010-12-01 10:24:00</td>\n",
       "      <td>2010-12-01</td>\n",
       "      <td>2010</td>\n",
       "      <td>12</td>\n",
       "      <td>3</td>\n",
       "      <td>10</td>\n",
       "      <td>1</td>\n",
       "      <td>22556</td>\n",
       "      <td>PLASTERS IN TIN CIRCUS PARADE</td>\n",
       "      <td>-12</td>\n",
       "      <td>1.65</td>\n",
       "      <td>17548</td>\n",
       "      <td>United Kingdom</td>\n",
       "      <td>-19.80</td>\n",
       "      <td>Outlier</td>\n",
       "      <td>1</td>\n",
       "    </tr>\n",
       "    <tr>\n",
       "      <td>62</td>\n",
       "      <td>C536506</td>\n",
       "      <td>2010-12-01 12:38:00</td>\n",
       "      <td>2010-12-01</td>\n",
       "      <td>2010</td>\n",
       "      <td>12</td>\n",
       "      <td>3</td>\n",
       "      <td>12</td>\n",
       "      <td>1</td>\n",
       "      <td>22960</td>\n",
       "      <td>JAM MAKING SET WITH JARS</td>\n",
       "      <td>-6</td>\n",
       "      <td>4.25</td>\n",
       "      <td>17897</td>\n",
       "      <td>United Kingdom</td>\n",
       "      <td>-25.50</td>\n",
       "      <td>Group 2</td>\n",
       "      <td>1</td>\n",
       "    </tr>\n",
       "    <tr>\n",
       "      <td>87</td>\n",
       "      <td>C536543</td>\n",
       "      <td>2010-12-01 14:30:00</td>\n",
       "      <td>2010-12-01</td>\n",
       "      <td>2010</td>\n",
       "      <td>12</td>\n",
       "      <td>3</td>\n",
       "      <td>14</td>\n",
       "      <td>1</td>\n",
       "      <td>22632</td>\n",
       "      <td>HAND WARMER RED RETROSPOT</td>\n",
       "      <td>-1</td>\n",
       "      <td>2.10</td>\n",
       "      <td>17841</td>\n",
       "      <td>United Kingdom</td>\n",
       "      <td>-2.10</td>\n",
       "      <td>Group 3</td>\n",
       "      <td>1</td>\n",
       "    </tr>\n",
       "    <tr>\n",
       "      <td>...</td>\n",
       "      <td>...</td>\n",
       "      <td>...</td>\n",
       "      <td>...</td>\n",
       "      <td>...</td>\n",
       "      <td>...</td>\n",
       "      <td>...</td>\n",
       "      <td>...</td>\n",
       "      <td>...</td>\n",
       "      <td>...</td>\n",
       "      <td>...</td>\n",
       "      <td>...</td>\n",
       "      <td>...</td>\n",
       "      <td>...</td>\n",
       "      <td>...</td>\n",
       "      <td>...</td>\n",
       "      <td>...</td>\n",
       "      <td>...</td>\n",
       "    </tr>\n",
       "    <tr>\n",
       "      <td>22153</td>\n",
       "      <td>C581484</td>\n",
       "      <td>2011-12-09 09:27:00</td>\n",
       "      <td>2011-12-09</td>\n",
       "      <td>2011</td>\n",
       "      <td>12</td>\n",
       "      <td>5</td>\n",
       "      <td>9</td>\n",
       "      <td>9</td>\n",
       "      <td>23843</td>\n",
       "      <td>PAPER CRAFT , LITTLE BIRDIE</td>\n",
       "      <td>-80995</td>\n",
       "      <td>2.08</td>\n",
       "      <td>16446</td>\n",
       "      <td>United Kingdom</td>\n",
       "      <td>-168469.60</td>\n",
       "      <td>Outlier</td>\n",
       "      <td>1</td>\n",
       "    </tr>\n",
       "    <tr>\n",
       "      <td>22159</td>\n",
       "      <td>C581490</td>\n",
       "      <td>2011-12-09 09:57:00</td>\n",
       "      <td>2011-12-09</td>\n",
       "      <td>2011</td>\n",
       "      <td>12</td>\n",
       "      <td>5</td>\n",
       "      <td>9</td>\n",
       "      <td>9</td>\n",
       "      <td>22178</td>\n",
       "      <td>VICTORIAN GLASS HANGING T-LIGHT</td>\n",
       "      <td>-12</td>\n",
       "      <td>1.95</td>\n",
       "      <td>14397</td>\n",
       "      <td>United Kingdom</td>\n",
       "      <td>-23.40</td>\n",
       "      <td>Outlier</td>\n",
       "      <td>1</td>\n",
       "    </tr>\n",
       "    <tr>\n",
       "      <td>22165</td>\n",
       "      <td>C581499</td>\n",
       "      <td>2011-12-09 10:28:00</td>\n",
       "      <td>2011-12-09</td>\n",
       "      <td>2011</td>\n",
       "      <td>12</td>\n",
       "      <td>5</td>\n",
       "      <td>10</td>\n",
       "      <td>9</td>\n",
       "      <td>M</td>\n",
       "      <td>Manual</td>\n",
       "      <td>-1</td>\n",
       "      <td>224.69</td>\n",
       "      <td>15498</td>\n",
       "      <td>United Kingdom</td>\n",
       "      <td>-224.69</td>\n",
       "      <td>Outlier</td>\n",
       "      <td>1</td>\n",
       "    </tr>\n",
       "    <tr>\n",
       "      <td>22174</td>\n",
       "      <td>C581568</td>\n",
       "      <td>2011-12-09 11:57:00</td>\n",
       "      <td>2011-12-09</td>\n",
       "      <td>2011</td>\n",
       "      <td>12</td>\n",
       "      <td>5</td>\n",
       "      <td>11</td>\n",
       "      <td>9</td>\n",
       "      <td>21258</td>\n",
       "      <td>VICTORIAN SEWING BOX LARGE</td>\n",
       "      <td>-5</td>\n",
       "      <td>10.95</td>\n",
       "      <td>15311</td>\n",
       "      <td>United Kingdom</td>\n",
       "      <td>-54.75</td>\n",
       "      <td>Outlier</td>\n",
       "      <td>1</td>\n",
       "    </tr>\n",
       "    <tr>\n",
       "      <td>22175</td>\n",
       "      <td>C581569</td>\n",
       "      <td>2011-12-09 11:58:00</td>\n",
       "      <td>2011-12-09</td>\n",
       "      <td>2011</td>\n",
       "      <td>12</td>\n",
       "      <td>5</td>\n",
       "      <td>11</td>\n",
       "      <td>9</td>\n",
       "      <td>84978</td>\n",
       "      <td>HANGING HEART JAR T-LIGHT HOLDER</td>\n",
       "      <td>-1</td>\n",
       "      <td>1.25</td>\n",
       "      <td>17315</td>\n",
       "      <td>United Kingdom</td>\n",
       "      <td>-1.25</td>\n",
       "      <td>Outlier</td>\n",
       "      <td>1</td>\n",
       "    </tr>\n",
       "  </tbody>\n",
       "</table>\n",
       "<p>3654 rows × 17 columns</p>\n",
       "</div>"
      ],
      "text/plain": [
       "      InvoiceNo          InvoiceDate        Date  Years  Months  Days  Hours  \\\n",
       "16      C536379  2010-12-01 09:41:00  2010-12-01   2010      12     3      9   \n",
       "18      C536383  2010-12-01 09:49:00  2010-12-01   2010      12     3      9   \n",
       "26      C536391  2010-12-01 10:24:00  2010-12-01   2010      12     3     10   \n",
       "62      C536506  2010-12-01 12:38:00  2010-12-01   2010      12     3     12   \n",
       "87      C536543  2010-12-01 14:30:00  2010-12-01   2010      12     3     14   \n",
       "...         ...                  ...         ...    ...     ...   ...    ...   \n",
       "22153   C581484  2011-12-09 09:27:00  2011-12-09   2011      12     5      9   \n",
       "22159   C581490  2011-12-09 09:57:00  2011-12-09   2011      12     5      9   \n",
       "22165   C581499  2011-12-09 10:28:00  2011-12-09   2011      12     5     10   \n",
       "22174   C581568  2011-12-09 11:57:00  2011-12-09   2011      12     5     11   \n",
       "22175   C581569  2011-12-09 11:58:00  2011-12-09   2011      12     5     11   \n",
       "\n",
       "       DayOfMonth StockCode                       Description  Quantity  \\\n",
       "16              1         D                          Discount        -1   \n",
       "18              1    35004C   SET OF 3 COLOURED  FLYING DUCKS        -1   \n",
       "26              1     22556    PLASTERS IN TIN CIRCUS PARADE        -12   \n",
       "62              1     22960          JAM MAKING SET WITH JARS        -6   \n",
       "87              1     22632         HAND WARMER RED RETROSPOT        -1   \n",
       "...           ...       ...                               ...       ...   \n",
       "22153           9     23843       PAPER CRAFT , LITTLE BIRDIE    -80995   \n",
       "22159           9     22178   VICTORIAN GLASS HANGING T-LIGHT       -12   \n",
       "22165           9         M                            Manual        -1   \n",
       "22174           9     21258        VICTORIAN SEWING BOX LARGE        -5   \n",
       "22175           9     84978  HANGING HEART JAR T-LIGHT HOLDER        -1   \n",
       "\n",
       "       UnitPrice  CustomerID         Country  TotalCost K-Means_Cluster  \\\n",
       "16         27.50       14527  United Kingdom     -27.50         Outlier   \n",
       "18          4.65       15311  United Kingdom      -4.65         Outlier   \n",
       "26          1.65       17548  United Kingdom     -19.80         Outlier   \n",
       "62          4.25       17897  United Kingdom     -25.50         Group 2   \n",
       "87          2.10       17841  United Kingdom      -2.10         Group 3   \n",
       "...          ...         ...             ...        ...             ...   \n",
       "22153       2.08       16446  United Kingdom -168469.60         Outlier   \n",
       "22159       1.95       14397  United Kingdom     -23.40         Outlier   \n",
       "22165     224.69       15498  United Kingdom    -224.69         Outlier   \n",
       "22174      10.95       15311  United Kingdom     -54.75         Outlier   \n",
       "22175       1.25       17315  United Kingdom      -1.25         Outlier   \n",
       "\n",
       "       cancellation_list  \n",
       "16                     1  \n",
       "18                     1  \n",
       "26                     1  \n",
       "62                     1  \n",
       "87                     1  \n",
       "...                  ...  \n",
       "22153                  1  \n",
       "22159                  1  \n",
       "22165                  1  \n",
       "22174                  1  \n",
       "22175                  1  \n",
       "\n",
       "[3654 rows x 17 columns]"
      ]
     },
     "execution_count": 66,
     "metadata": {},
     "output_type": "execute_result"
    }
   ],
   "source": [
    "data[(data['InvoiceNo'].str.contains('C'))]"
   ]
  },
  {
   "cell_type": "markdown",
   "metadata": {},
   "source": [
    "## Section 1 : Data Cleaning"
   ]
  },
  {
   "cell_type": "code",
   "execution_count": 8,
   "metadata": {
    "scrolled": false
   },
   "outputs": [
    {
     "name": "stdout",
     "output_type": "stream",
     "text": [
      "<class 'pandas.core.frame.DataFrame'>\n",
      "RangeIndex: 22190 entries, 0 to 22189\n",
      "Data columns (total 16 columns):\n",
      "InvoiceNo          22190 non-null object\n",
      "InvoiceDate        22190 non-null object\n",
      "Date               22190 non-null object\n",
      "Years              22190 non-null int64\n",
      "Months             22190 non-null int64\n",
      "Days               22190 non-null int64\n",
      "Hours              22190 non-null int64\n",
      "DayOfMonth         22190 non-null int64\n",
      "StockCode          22190 non-null object\n",
      "Description        22190 non-null object\n",
      "Quantity           22190 non-null int64\n",
      "UnitPrice          22190 non-null float64\n",
      "CustomerID         22190 non-null int64\n",
      "Country            22190 non-null object\n",
      "TotalCost          22190 non-null float64\n",
      "K-Means_Cluster    22190 non-null object\n",
      "dtypes: float64(2), int64(7), object(7)\n",
      "memory usage: 2.7+ MB\n"
     ]
    }
   ],
   "source": [
    "data.info()"
   ]
  },
  {
   "cell_type": "code",
   "execution_count": 9,
   "metadata": {},
   "outputs": [
    {
     "data": {
      "text/html": [
       "<div>\n",
       "<style scoped>\n",
       "    .dataframe tbody tr th:only-of-type {\n",
       "        vertical-align: middle;\n",
       "    }\n",
       "\n",
       "    .dataframe tbody tr th {\n",
       "        vertical-align: top;\n",
       "    }\n",
       "\n",
       "    .dataframe thead th {\n",
       "        text-align: right;\n",
       "    }\n",
       "</style>\n",
       "<table border=\"1\" class=\"dataframe\">\n",
       "  <thead>\n",
       "    <tr style=\"text-align: right;\">\n",
       "      <th></th>\n",
       "      <th>InvoiceNo</th>\n",
       "      <th>InvoiceDate</th>\n",
       "      <th>Date</th>\n",
       "      <th>Years</th>\n",
       "      <th>Months</th>\n",
       "      <th>Days</th>\n",
       "      <th>Hours</th>\n",
       "      <th>DayOfMonth</th>\n",
       "      <th>StockCode</th>\n",
       "      <th>Description</th>\n",
       "      <th>Quantity</th>\n",
       "      <th>UnitPrice</th>\n",
       "      <th>CustomerID</th>\n",
       "      <th>Country</th>\n",
       "      <th>TotalCost</th>\n",
       "      <th>K-Means_Cluster</th>\n",
       "    </tr>\n",
       "  </thead>\n",
       "  <tbody>\n",
       "    <tr>\n",
       "      <td>0</td>\n",
       "      <td>536365</td>\n",
       "      <td>2010-12-01 08:26:00</td>\n",
       "      <td>2010-12-01</td>\n",
       "      <td>2010</td>\n",
       "      <td>12</td>\n",
       "      <td>3</td>\n",
       "      <td>8</td>\n",
       "      <td>1</td>\n",
       "      <td>85123A</td>\n",
       "      <td>WHITE HANGING HEART T-LIGHT HOLDER</td>\n",
       "      <td>6</td>\n",
       "      <td>2.55</td>\n",
       "      <td>17850</td>\n",
       "      <td>United Kingdom</td>\n",
       "      <td>15.30</td>\n",
       "      <td>Group 4</td>\n",
       "    </tr>\n",
       "    <tr>\n",
       "      <td>1</td>\n",
       "      <td>536366</td>\n",
       "      <td>2010-12-01 08:28:00</td>\n",
       "      <td>2010-12-01</td>\n",
       "      <td>2010</td>\n",
       "      <td>12</td>\n",
       "      <td>3</td>\n",
       "      <td>8</td>\n",
       "      <td>1</td>\n",
       "      <td>22633</td>\n",
       "      <td>HAND WARMER UNION JACK</td>\n",
       "      <td>6</td>\n",
       "      <td>1.85</td>\n",
       "      <td>17850</td>\n",
       "      <td>United Kingdom</td>\n",
       "      <td>11.10</td>\n",
       "      <td>Group 4</td>\n",
       "    </tr>\n",
       "    <tr>\n",
       "      <td>2</td>\n",
       "      <td>536367</td>\n",
       "      <td>2010-12-01 08:34:00</td>\n",
       "      <td>2010-12-01</td>\n",
       "      <td>2010</td>\n",
       "      <td>12</td>\n",
       "      <td>3</td>\n",
       "      <td>8</td>\n",
       "      <td>1</td>\n",
       "      <td>84879</td>\n",
       "      <td>ASSORTED COLOUR BIRD ORNAMENT</td>\n",
       "      <td>32</td>\n",
       "      <td>1.69</td>\n",
       "      <td>13047</td>\n",
       "      <td>United Kingdom</td>\n",
       "      <td>54.08</td>\n",
       "      <td>Group 4</td>\n",
       "    </tr>\n",
       "  </tbody>\n",
       "</table>\n",
       "</div>"
      ],
      "text/plain": [
       "  InvoiceNo          InvoiceDate        Date  Years  Months  Days  Hours  \\\n",
       "0    536365  2010-12-01 08:26:00  2010-12-01   2010      12     3      8   \n",
       "1    536366  2010-12-01 08:28:00  2010-12-01   2010      12     3      8   \n",
       "2    536367  2010-12-01 08:34:00  2010-12-01   2010      12     3      8   \n",
       "\n",
       "   DayOfMonth StockCode                         Description  Quantity  \\\n",
       "0           1    85123A  WHITE HANGING HEART T-LIGHT HOLDER         6   \n",
       "1           1     22633              HAND WARMER UNION JACK         6   \n",
       "2           1     84879       ASSORTED COLOUR BIRD ORNAMENT        32   \n",
       "\n",
       "   UnitPrice  CustomerID         Country  TotalCost K-Means_Cluster  \n",
       "0       2.55       17850  United Kingdom      15.30         Group 4  \n",
       "1       1.85       17850  United Kingdom      11.10         Group 4  \n",
       "2       1.69       13047  United Kingdom      54.08         Group 4  "
      ]
     },
     "execution_count": 9,
     "metadata": {},
     "output_type": "execute_result"
    }
   ],
   "source": [
    "data.head(3)"
   ]
  },
  {
   "cell_type": "markdown",
   "metadata": {},
   "source": [
    "### Cleaning 01 : Creating Target Feature : \"cancellation_list\""
   ]
  },
  {
   "cell_type": "code",
   "execution_count": 10,
   "metadata": {
    "scrolled": true
   },
   "outputs": [
    {
     "data": {
      "text/html": [
       "<div>\n",
       "<style scoped>\n",
       "    .dataframe tbody tr th:only-of-type {\n",
       "        vertical-align: middle;\n",
       "    }\n",
       "\n",
       "    .dataframe tbody tr th {\n",
       "        vertical-align: top;\n",
       "    }\n",
       "\n",
       "    .dataframe thead th {\n",
       "        text-align: right;\n",
       "    }\n",
       "</style>\n",
       "<table border=\"1\" class=\"dataframe\">\n",
       "  <thead>\n",
       "    <tr style=\"text-align: right;\">\n",
       "      <th></th>\n",
       "      <th>InvoiceNo</th>\n",
       "      <th>InvoiceDate</th>\n",
       "      <th>Date</th>\n",
       "      <th>Years</th>\n",
       "      <th>Months</th>\n",
       "      <th>Days</th>\n",
       "      <th>Hours</th>\n",
       "      <th>DayOfMonth</th>\n",
       "      <th>StockCode</th>\n",
       "      <th>Description</th>\n",
       "      <th>Quantity</th>\n",
       "      <th>UnitPrice</th>\n",
       "      <th>CustomerID</th>\n",
       "      <th>Country</th>\n",
       "      <th>TotalCost</th>\n",
       "      <th>K-Means_Cluster</th>\n",
       "      <th>cancellation_list</th>\n",
       "    </tr>\n",
       "  </thead>\n",
       "  <tbody>\n",
       "    <tr>\n",
       "      <td>0</td>\n",
       "      <td>536365</td>\n",
       "      <td>2010-12-01 08:26:00</td>\n",
       "      <td>2010-12-01</td>\n",
       "      <td>2010</td>\n",
       "      <td>12</td>\n",
       "      <td>3</td>\n",
       "      <td>8</td>\n",
       "      <td>1</td>\n",
       "      <td>85123A</td>\n",
       "      <td>WHITE HANGING HEART T-LIGHT HOLDER</td>\n",
       "      <td>6</td>\n",
       "      <td>2.55</td>\n",
       "      <td>17850</td>\n",
       "      <td>United Kingdom</td>\n",
       "      <td>15.30</td>\n",
       "      <td>Group 4</td>\n",
       "      <td>0</td>\n",
       "    </tr>\n",
       "    <tr>\n",
       "      <td>1</td>\n",
       "      <td>536366</td>\n",
       "      <td>2010-12-01 08:28:00</td>\n",
       "      <td>2010-12-01</td>\n",
       "      <td>2010</td>\n",
       "      <td>12</td>\n",
       "      <td>3</td>\n",
       "      <td>8</td>\n",
       "      <td>1</td>\n",
       "      <td>22633</td>\n",
       "      <td>HAND WARMER UNION JACK</td>\n",
       "      <td>6</td>\n",
       "      <td>1.85</td>\n",
       "      <td>17850</td>\n",
       "      <td>United Kingdom</td>\n",
       "      <td>11.10</td>\n",
       "      <td>Group 4</td>\n",
       "      <td>0</td>\n",
       "    </tr>\n",
       "    <tr>\n",
       "      <td>2</td>\n",
       "      <td>536367</td>\n",
       "      <td>2010-12-01 08:34:00</td>\n",
       "      <td>2010-12-01</td>\n",
       "      <td>2010</td>\n",
       "      <td>12</td>\n",
       "      <td>3</td>\n",
       "      <td>8</td>\n",
       "      <td>1</td>\n",
       "      <td>84879</td>\n",
       "      <td>ASSORTED COLOUR BIRD ORNAMENT</td>\n",
       "      <td>32</td>\n",
       "      <td>1.69</td>\n",
       "      <td>13047</td>\n",
       "      <td>United Kingdom</td>\n",
       "      <td>54.08</td>\n",
       "      <td>Group 4</td>\n",
       "      <td>0</td>\n",
       "    </tr>\n",
       "  </tbody>\n",
       "</table>\n",
       "</div>"
      ],
      "text/plain": [
       "  InvoiceNo          InvoiceDate        Date  Years  Months  Days  Hours  \\\n",
       "0    536365  2010-12-01 08:26:00  2010-12-01   2010      12     3      8   \n",
       "1    536366  2010-12-01 08:28:00  2010-12-01   2010      12     3      8   \n",
       "2    536367  2010-12-01 08:34:00  2010-12-01   2010      12     3      8   \n",
       "\n",
       "   DayOfMonth StockCode                         Description  Quantity  \\\n",
       "0           1    85123A  WHITE HANGING HEART T-LIGHT HOLDER         6   \n",
       "1           1     22633              HAND WARMER UNION JACK         6   \n",
       "2           1     84879       ASSORTED COLOUR BIRD ORNAMENT        32   \n",
       "\n",
       "   UnitPrice  CustomerID         Country  TotalCost K-Means_Cluster  \\\n",
       "0       2.55       17850  United Kingdom      15.30         Group 4   \n",
       "1       1.85       17850  United Kingdom      11.10         Group 4   \n",
       "2       1.69       13047  United Kingdom      54.08         Group 4   \n",
       "\n",
       "   cancellation_list  \n",
       "0                  0  \n",
       "1                  0  \n",
       "2                  0  "
      ]
     },
     "execution_count": 10,
     "metadata": {},
     "output_type": "execute_result"
    }
   ],
   "source": [
    "cancellation_list = []\n",
    "for i in data['InvoiceNo'] :\n",
    "    if \"C\" in i :\n",
    "        cancellation_list.append(1)\n",
    "    else :\n",
    "        cancellation_list.append(0)\n",
    "data['cancellation_list'] = cancellation_list\n",
    "data.head(3)"
   ]
  },
  {
   "cell_type": "markdown",
   "metadata": {},
   "source": [
    "### Cleaning 02 : Create Dummies Variable for K-Means Cluster"
   ]
  },
  {
   "cell_type": "code",
   "execution_count": 11,
   "metadata": {
    "scrolled": false
   },
   "outputs": [
    {
     "data": {
      "text/html": [
       "<div>\n",
       "<style scoped>\n",
       "    .dataframe tbody tr th:only-of-type {\n",
       "        vertical-align: middle;\n",
       "    }\n",
       "\n",
       "    .dataframe tbody tr th {\n",
       "        vertical-align: top;\n",
       "    }\n",
       "\n",
       "    .dataframe thead th {\n",
       "        text-align: right;\n",
       "    }\n",
       "</style>\n",
       "<table border=\"1\" class=\"dataframe\">\n",
       "  <thead>\n",
       "    <tr style=\"text-align: right;\">\n",
       "      <th></th>\n",
       "      <th>InvoiceNo</th>\n",
       "      <th>InvoiceDate</th>\n",
       "      <th>Date</th>\n",
       "      <th>Years</th>\n",
       "      <th>Months</th>\n",
       "      <th>Days</th>\n",
       "      <th>Hours</th>\n",
       "      <th>DayOfMonth</th>\n",
       "      <th>StockCode</th>\n",
       "      <th>Description</th>\n",
       "      <th>...</th>\n",
       "      <th>CustomerID</th>\n",
       "      <th>Country</th>\n",
       "      <th>TotalCost</th>\n",
       "      <th>K-Means_Cluster</th>\n",
       "      <th>cancellation_list</th>\n",
       "      <th>Cluster_Group 1</th>\n",
       "      <th>Cluster_Group 2</th>\n",
       "      <th>Cluster_Group 3</th>\n",
       "      <th>Cluster_Group 4</th>\n",
       "      <th>Cluster_Outlier</th>\n",
       "    </tr>\n",
       "  </thead>\n",
       "  <tbody>\n",
       "    <tr>\n",
       "      <td>0</td>\n",
       "      <td>536365</td>\n",
       "      <td>2010-12-01 08:26:00</td>\n",
       "      <td>2010-12-01</td>\n",
       "      <td>2010</td>\n",
       "      <td>12</td>\n",
       "      <td>3</td>\n",
       "      <td>8</td>\n",
       "      <td>1</td>\n",
       "      <td>85123A</td>\n",
       "      <td>WHITE HANGING HEART T-LIGHT HOLDER</td>\n",
       "      <td>...</td>\n",
       "      <td>17850</td>\n",
       "      <td>United Kingdom</td>\n",
       "      <td>15.30</td>\n",
       "      <td>Group 4</td>\n",
       "      <td>0</td>\n",
       "      <td>0</td>\n",
       "      <td>0</td>\n",
       "      <td>0</td>\n",
       "      <td>1</td>\n",
       "      <td>0</td>\n",
       "    </tr>\n",
       "    <tr>\n",
       "      <td>1</td>\n",
       "      <td>536366</td>\n",
       "      <td>2010-12-01 08:28:00</td>\n",
       "      <td>2010-12-01</td>\n",
       "      <td>2010</td>\n",
       "      <td>12</td>\n",
       "      <td>3</td>\n",
       "      <td>8</td>\n",
       "      <td>1</td>\n",
       "      <td>22633</td>\n",
       "      <td>HAND WARMER UNION JACK</td>\n",
       "      <td>...</td>\n",
       "      <td>17850</td>\n",
       "      <td>United Kingdom</td>\n",
       "      <td>11.10</td>\n",
       "      <td>Group 4</td>\n",
       "      <td>0</td>\n",
       "      <td>0</td>\n",
       "      <td>0</td>\n",
       "      <td>0</td>\n",
       "      <td>1</td>\n",
       "      <td>0</td>\n",
       "    </tr>\n",
       "    <tr>\n",
       "      <td>2</td>\n",
       "      <td>536367</td>\n",
       "      <td>2010-12-01 08:34:00</td>\n",
       "      <td>2010-12-01</td>\n",
       "      <td>2010</td>\n",
       "      <td>12</td>\n",
       "      <td>3</td>\n",
       "      <td>8</td>\n",
       "      <td>1</td>\n",
       "      <td>84879</td>\n",
       "      <td>ASSORTED COLOUR BIRD ORNAMENT</td>\n",
       "      <td>...</td>\n",
       "      <td>13047</td>\n",
       "      <td>United Kingdom</td>\n",
       "      <td>54.08</td>\n",
       "      <td>Group 4</td>\n",
       "      <td>0</td>\n",
       "      <td>0</td>\n",
       "      <td>0</td>\n",
       "      <td>0</td>\n",
       "      <td>1</td>\n",
       "      <td>0</td>\n",
       "    </tr>\n",
       "  </tbody>\n",
       "</table>\n",
       "<p>3 rows × 22 columns</p>\n",
       "</div>"
      ],
      "text/plain": [
       "  InvoiceNo          InvoiceDate        Date  Years  Months  Days  Hours  \\\n",
       "0    536365  2010-12-01 08:26:00  2010-12-01   2010      12     3      8   \n",
       "1    536366  2010-12-01 08:28:00  2010-12-01   2010      12     3      8   \n",
       "2    536367  2010-12-01 08:34:00  2010-12-01   2010      12     3      8   \n",
       "\n",
       "   DayOfMonth StockCode                         Description  ...  CustomerID  \\\n",
       "0           1    85123A  WHITE HANGING HEART T-LIGHT HOLDER  ...       17850   \n",
       "1           1     22633              HAND WARMER UNION JACK  ...       17850   \n",
       "2           1     84879       ASSORTED COLOUR BIRD ORNAMENT  ...       13047   \n",
       "\n",
       "          Country  TotalCost K-Means_Cluster  cancellation_list  \\\n",
       "0  United Kingdom      15.30         Group 4                  0   \n",
       "1  United Kingdom      11.10         Group 4                  0   \n",
       "2  United Kingdom      54.08         Group 4                  0   \n",
       "\n",
       "  Cluster_Group 1  Cluster_Group 2  Cluster_Group 3  Cluster_Group 4  \\\n",
       "0               0                0                0                1   \n",
       "1               0                0                0                1   \n",
       "2               0                0                0                1   \n",
       "\n",
       "   Cluster_Outlier  \n",
       "0                0  \n",
       "1                0  \n",
       "2                0  \n",
       "\n",
       "[3 rows x 22 columns]"
      ]
     },
     "execution_count": 11,
     "metadata": {},
     "output_type": "execute_result"
    }
   ],
   "source": [
    "cluster_dummies = pd.get_dummies(data['K-Means_Cluster'], prefix = 'Cluster')\n",
    "frames = [data, cluster_dummies]\n",
    "data_pred = pd.concat(frames, axis=1)\n",
    "data_pred.head(3)"
   ]
  },
  {
   "cell_type": "markdown",
   "metadata": {},
   "source": [
    "## Section 2 :  Minor EDA"
   ]
  },
  {
   "cell_type": "code",
   "execution_count": 12,
   "metadata": {
    "scrolled": false
   },
   "outputs": [
    {
     "data": {
      "image/png": "[encoded data removed]",
      "text/plain": [
       "<Figure size 432x288 with 1 Axes>"
      ]
     },
     "metadata": {
      "needs_background": "light"
     },
     "output_type": "display_data"
    }
   ],
   "source": [
    "sns.countplot(x='cancellation_list', data = data, palette='bwr')\n",
    "plt.show()"
   ]
  },
  {
   "cell_type": "markdown",
   "metadata": {},
   "source": [
    "**DESCRIPTION :** \n",
    "\n",
    "0 : Not Cancel\n",
    "\n",
    "1 : Cancel\n",
    "\n",
    "It seems that there is an imbalance issues, but let's try the conventional way and see the result, I will do Imbalance Handling if the model performance is bad"
   ]
  },
  {
   "cell_type": "code",
   "execution_count": 13,
   "metadata": {
    "scrolled": true
   },
   "outputs": [
    {
     "name": "stdout",
     "output_type": "stream",
     "text": [
      "percentage of not-cancelled Order : 83.53%\n",
      "percentage of cancelled order : 16.47%\n"
     ]
    }
   ],
   "source": [
    "countNoCancel = len(data[data['cancellation_list'] == 0])\n",
    "countCancel = len(data[data['cancellation_list'] == 1])\n",
    "print(\"percentage of not-cancelled Order : {:.2f}%\".format((countNoCancel / (len(data['cancellation_list']))*100)))\n",
    "print(\"percentage of cancelled order : {:.2f}%\".format((countCancel / (len(data['cancellation_list']))*100)))"
   ]
  },
  {
   "cell_type": "code",
   "execution_count": 14,
   "metadata": {},
   "outputs": [
    {
     "data": {
      "text/plain": [
       "3654"
      ]
     },
     "execution_count": 14,
     "metadata": {},
     "output_type": "execute_result"
    }
   ],
   "source": [
    "countCancel"
   ]
  },
  {
   "cell_type": "code",
   "execution_count": 15,
   "metadata": {
    "scrolled": false
   },
   "outputs": [
    {
     "data": {
      "text/plain": [
       "Index(['InvoiceNo', 'InvoiceDate', 'Date', 'Years', 'Months', 'Days', 'Hours',\n",
       "       'DayOfMonth', 'StockCode', 'Description', 'Quantity', 'UnitPrice',\n",
       "       'CustomerID', 'Country', 'TotalCost', 'K-Means_Cluster',\n",
       "       'cancellation_list', 'Cluster_Group 1', 'Cluster_Group 2',\n",
       "       'Cluster_Group 3', 'Cluster_Group 4', 'Cluster_Outlier'],\n",
       "      dtype='object')"
      ]
     },
     "execution_count": 15,
     "metadata": {},
     "output_type": "execute_result"
    }
   ],
   "source": [
    "data_pred.columns"
   ]
  },
  {
   "cell_type": "code",
   "execution_count": 60,
   "metadata": {},
   "outputs": [
    {
     "data": {
      "text/html": [
       "<div>\n",
       "<style scoped>\n",
       "    .dataframe tbody tr th:only-of-type {\n",
       "        vertical-align: middle;\n",
       "    }\n",
       "\n",
       "    .dataframe tbody tr th {\n",
       "        vertical-align: top;\n",
       "    }\n",
       "\n",
       "    .dataframe thead th {\n",
       "        text-align: right;\n",
       "    }\n",
       "</style>\n",
       "<table border=\"1\" class=\"dataframe\">\n",
       "  <thead>\n",
       "    <tr style=\"text-align: right;\">\n",
       "      <th></th>\n",
       "      <th>cancellation_list</th>\n",
       "      <th>Months</th>\n",
       "      <th>Days</th>\n",
       "      <th>Hours</th>\n",
       "      <th>DayOfMonth</th>\n",
       "      <th>UnitPrice</th>\n",
       "      <th>Cluster_Group 1</th>\n",
       "      <th>Cluster_Group 2</th>\n",
       "      <th>Cluster_Group 3</th>\n",
       "      <th>Cluster_Group 4</th>\n",
       "    </tr>\n",
       "  </thead>\n",
       "  <tbody>\n",
       "    <tr>\n",
       "      <td>0</td>\n",
       "      <td>0</td>\n",
       "      <td>12</td>\n",
       "      <td>3</td>\n",
       "      <td>8</td>\n",
       "      <td>1</td>\n",
       "      <td>2.55</td>\n",
       "      <td>0</td>\n",
       "      <td>0</td>\n",
       "      <td>0</td>\n",
       "      <td>1</td>\n",
       "    </tr>\n",
       "    <tr>\n",
       "      <td>1</td>\n",
       "      <td>0</td>\n",
       "      <td>12</td>\n",
       "      <td>3</td>\n",
       "      <td>8</td>\n",
       "      <td>1</td>\n",
       "      <td>1.85</td>\n",
       "      <td>0</td>\n",
       "      <td>0</td>\n",
       "      <td>0</td>\n",
       "      <td>1</td>\n",
       "    </tr>\n",
       "    <tr>\n",
       "      <td>2</td>\n",
       "      <td>0</td>\n",
       "      <td>12</td>\n",
       "      <td>3</td>\n",
       "      <td>8</td>\n",
       "      <td>1</td>\n",
       "      <td>1.69</td>\n",
       "      <td>0</td>\n",
       "      <td>0</td>\n",
       "      <td>0</td>\n",
       "      <td>1</td>\n",
       "    </tr>\n",
       "    <tr>\n",
       "      <td>3</td>\n",
       "      <td>0</td>\n",
       "      <td>12</td>\n",
       "      <td>3</td>\n",
       "      <td>8</td>\n",
       "      <td>1</td>\n",
       "      <td>4.25</td>\n",
       "      <td>0</td>\n",
       "      <td>0</td>\n",
       "      <td>0</td>\n",
       "      <td>1</td>\n",
       "    </tr>\n",
       "    <tr>\n",
       "      <td>4</td>\n",
       "      <td>0</td>\n",
       "      <td>12</td>\n",
       "      <td>3</td>\n",
       "      <td>8</td>\n",
       "      <td>1</td>\n",
       "      <td>5.95</td>\n",
       "      <td>0</td>\n",
       "      <td>0</td>\n",
       "      <td>0</td>\n",
       "      <td>1</td>\n",
       "    </tr>\n",
       "    <tr>\n",
       "      <td>...</td>\n",
       "      <td>...</td>\n",
       "      <td>...</td>\n",
       "      <td>...</td>\n",
       "      <td>...</td>\n",
       "      <td>...</td>\n",
       "      <td>...</td>\n",
       "      <td>...</td>\n",
       "      <td>...</td>\n",
       "      <td>...</td>\n",
       "      <td>...</td>\n",
       "    </tr>\n",
       "    <tr>\n",
       "      <td>22185</td>\n",
       "      <td>0</td>\n",
       "      <td>12</td>\n",
       "      <td>5</td>\n",
       "      <td>12</td>\n",
       "      <td>9</td>\n",
       "      <td>1.45</td>\n",
       "      <td>0</td>\n",
       "      <td>0</td>\n",
       "      <td>0</td>\n",
       "      <td>0</td>\n",
       "    </tr>\n",
       "    <tr>\n",
       "      <td>22186</td>\n",
       "      <td>0</td>\n",
       "      <td>12</td>\n",
       "      <td>5</td>\n",
       "      <td>12</td>\n",
       "      <td>9</td>\n",
       "      <td>0.72</td>\n",
       "      <td>0</td>\n",
       "      <td>0</td>\n",
       "      <td>0</td>\n",
       "      <td>0</td>\n",
       "    </tr>\n",
       "    <tr>\n",
       "      <td>22187</td>\n",
       "      <td>0</td>\n",
       "      <td>12</td>\n",
       "      <td>5</td>\n",
       "      <td>12</td>\n",
       "      <td>9</td>\n",
       "      <td>0.39</td>\n",
       "      <td>0</td>\n",
       "      <td>0</td>\n",
       "      <td>0</td>\n",
       "      <td>0</td>\n",
       "    </tr>\n",
       "    <tr>\n",
       "      <td>22188</td>\n",
       "      <td>0</td>\n",
       "      <td>12</td>\n",
       "      <td>5</td>\n",
       "      <td>12</td>\n",
       "      <td>9</td>\n",
       "      <td>2.95</td>\n",
       "      <td>0</td>\n",
       "      <td>0</td>\n",
       "      <td>0</td>\n",
       "      <td>0</td>\n",
       "    </tr>\n",
       "    <tr>\n",
       "      <td>22189</td>\n",
       "      <td>0</td>\n",
       "      <td>12</td>\n",
       "      <td>5</td>\n",
       "      <td>12</td>\n",
       "      <td>9</td>\n",
       "      <td>1.95</td>\n",
       "      <td>0</td>\n",
       "      <td>0</td>\n",
       "      <td>0</td>\n",
       "      <td>0</td>\n",
       "    </tr>\n",
       "  </tbody>\n",
       "</table>\n",
       "<p>22190 rows × 10 columns</p>\n",
       "</div>"
      ],
      "text/plain": [
       "       cancellation_list  Months  Days  Hours  DayOfMonth  UnitPrice  \\\n",
       "0                      0      12     3      8           1       2.55   \n",
       "1                      0      12     3      8           1       1.85   \n",
       "2                      0      12     3      8           1       1.69   \n",
       "3                      0      12     3      8           1       4.25   \n",
       "4                      0      12     3      8           1       5.95   \n",
       "...                  ...     ...   ...    ...         ...        ...   \n",
       "22185                  0      12     5     12           9       1.45   \n",
       "22186                  0      12     5     12           9       0.72   \n",
       "22187                  0      12     5     12           9       0.39   \n",
       "22188                  0      12     5     12           9       2.95   \n",
       "22189                  0      12     5     12           9       1.95   \n",
       "\n",
       "       Cluster_Group 1  Cluster_Group 2  Cluster_Group 3  Cluster_Group 4  \n",
       "0                    0                0                0                1  \n",
       "1                    0                0                0                1  \n",
       "2                    0                0                0                1  \n",
       "3                    0                0                0                1  \n",
       "4                    0                0                0                1  \n",
       "...                ...              ...              ...              ...  \n",
       "22185                0                0                0                0  \n",
       "22186                0                0                0                0  \n",
       "22187                0                0                0                0  \n",
       "22188                0                0                0                0  \n",
       "22189                0                0                0                0  \n",
       "\n",
       "[22190 rows x 10 columns]"
      ]
     },
     "execution_count": 60,
     "metadata": {},
     "output_type": "execute_result"
    }
   ],
   "source": [
    "data_pred"
   ]
  },
  {
   "cell_type": "markdown",
   "metadata": {},
   "source": [
    "## Section 3 : Model Deployment\n",
    "Here are the key step that i took in Model Deployment:\n",
    "1. Data Preparation :\n",
    "    - data_pred_full : using all numerical data from the dataset\n",
    "    - data_pred : using all numerical data from dataset except for Quantity and Total Cost (because these feature causes overfitting later on in the projects.\n",
    "2. Data Splitting\n",
    "    - Splitting Feature and Target Variable\n",
    "    - Splitting train and test dataset\n",
    "3. Fitting Model with train data and Predicting Model with Test Data\n",
    "    - In this Model Fitting i am using RandomForestClassifier\n",
    "4. Model Visualization and Evaluation :\n",
    "    - Confusion Matrix\n",
    "    - Classification Report\n",
    "5. Model Selection"
   ]
  },
  {
   "cell_type": "markdown",
   "metadata": {},
   "source": [
    "### 1. Data Preparation"
   ]
  },
  {
   "cell_type": "code",
   "execution_count": null,
   "metadata": {},
   "outputs": [],
   "source": [
    "data_pred_full[data_pred_full['Sto']]"
   ]
  },
  {
   "cell_type": "code",
   "execution_count": 58,
   "metadata": {},
   "outputs": [
    {
     "data": {
      "text/plain": [
       "16          -1\n",
       "18          -1\n",
       "26         -12\n",
       "62          -6\n",
       "87          -1\n",
       "         ...  \n",
       "22153   -80995\n",
       "22159      -12\n",
       "22165       -1\n",
       "22174       -5\n",
       "22175       -1\n",
       "Name: Quantity, Length: 3654, dtype: int64"
      ]
     },
     "execution_count": 58,
     "metadata": {},
     "output_type": "execute_result"
    }
   ],
   "source": [
    "data_pred_full[data_pred_full['cancellation_list']==1]['Quantity']"
   ]
  },
  {
   "cell_type": "code",
   "execution_count": 16,
   "metadata": {},
   "outputs": [
    {
     "data": {
      "text/html": [
       "<div>\n",
       "<style scoped>\n",
       "    .dataframe tbody tr th:only-of-type {\n",
       "        vertical-align: middle;\n",
       "    }\n",
       "\n",
       "    .dataframe tbody tr th {\n",
       "        vertical-align: top;\n",
       "    }\n",
       "\n",
       "    .dataframe thead th {\n",
       "        text-align: right;\n",
       "    }\n",
       "</style>\n",
       "<table border=\"1\" class=\"dataframe\">\n",
       "  <thead>\n",
       "    <tr style=\"text-align: right;\">\n",
       "      <th></th>\n",
       "      <th>cancellation_list</th>\n",
       "      <th>Months</th>\n",
       "      <th>Days</th>\n",
       "      <th>Hours</th>\n",
       "      <th>DayOfMonth</th>\n",
       "      <th>UnitPrice</th>\n",
       "      <th>Quantity</th>\n",
       "      <th>TotalCost</th>\n",
       "      <th>Cluster_Group 1</th>\n",
       "      <th>Cluster_Group 2</th>\n",
       "      <th>Cluster_Group 3</th>\n",
       "      <th>Cluster_Group 4</th>\n",
       "    </tr>\n",
       "  </thead>\n",
       "  <tbody>\n",
       "    <tr>\n",
       "      <td>0</td>\n",
       "      <td>0</td>\n",
       "      <td>12</td>\n",
       "      <td>3</td>\n",
       "      <td>8</td>\n",
       "      <td>1</td>\n",
       "      <td>2.55</td>\n",
       "      <td>6</td>\n",
       "      <td>15.30</td>\n",
       "      <td>0</td>\n",
       "      <td>0</td>\n",
       "      <td>0</td>\n",
       "      <td>1</td>\n",
       "    </tr>\n",
       "    <tr>\n",
       "      <td>1</td>\n",
       "      <td>0</td>\n",
       "      <td>12</td>\n",
       "      <td>3</td>\n",
       "      <td>8</td>\n",
       "      <td>1</td>\n",
       "      <td>1.85</td>\n",
       "      <td>6</td>\n",
       "      <td>11.10</td>\n",
       "      <td>0</td>\n",
       "      <td>0</td>\n",
       "      <td>0</td>\n",
       "      <td>1</td>\n",
       "    </tr>\n",
       "    <tr>\n",
       "      <td>2</td>\n",
       "      <td>0</td>\n",
       "      <td>12</td>\n",
       "      <td>3</td>\n",
       "      <td>8</td>\n",
       "      <td>1</td>\n",
       "      <td>1.69</td>\n",
       "      <td>32</td>\n",
       "      <td>54.08</td>\n",
       "      <td>0</td>\n",
       "      <td>0</td>\n",
       "      <td>0</td>\n",
       "      <td>1</td>\n",
       "    </tr>\n",
       "    <tr>\n",
       "      <td>3</td>\n",
       "      <td>0</td>\n",
       "      <td>12</td>\n",
       "      <td>3</td>\n",
       "      <td>8</td>\n",
       "      <td>1</td>\n",
       "      <td>4.25</td>\n",
       "      <td>6</td>\n",
       "      <td>25.50</td>\n",
       "      <td>0</td>\n",
       "      <td>0</td>\n",
       "      <td>0</td>\n",
       "      <td>1</td>\n",
       "    </tr>\n",
       "    <tr>\n",
       "      <td>4</td>\n",
       "      <td>0</td>\n",
       "      <td>12</td>\n",
       "      <td>3</td>\n",
       "      <td>8</td>\n",
       "      <td>1</td>\n",
       "      <td>5.95</td>\n",
       "      <td>3</td>\n",
       "      <td>17.85</td>\n",
       "      <td>0</td>\n",
       "      <td>0</td>\n",
       "      <td>0</td>\n",
       "      <td>1</td>\n",
       "    </tr>\n",
       "  </tbody>\n",
       "</table>\n",
       "</div>"
      ],
      "text/plain": [
       "   cancellation_list  Months  Days  Hours  DayOfMonth  UnitPrice  Quantity  \\\n",
       "0                  0      12     3      8           1       2.55         6   \n",
       "1                  0      12     3      8           1       1.85         6   \n",
       "2                  0      12     3      8           1       1.69        32   \n",
       "3                  0      12     3      8           1       4.25         6   \n",
       "4                  0      12     3      8           1       5.95         3   \n",
       "\n",
       "   TotalCost  Cluster_Group 1  Cluster_Group 2  Cluster_Group 3  \\\n",
       "0      15.30                0                0                0   \n",
       "1      11.10                0                0                0   \n",
       "2      54.08                0                0                0   \n",
       "3      25.50                0                0                0   \n",
       "4      17.85                0                0                0   \n",
       "\n",
       "   Cluster_Group 4  \n",
       "0                1  \n",
       "1                1  \n",
       "2                1  \n",
       "3                1  \n",
       "4                1  "
      ]
     },
     "execution_count": 16,
     "metadata": {},
     "output_type": "execute_result"
    }
   ],
   "source": [
    "#data_pred_full : all numerical data from the dataset\n",
    "data_pred_full = data_pred[['cancellation_list','Months', 'Days', 'Hours', 'DayOfMonth',\n",
    "                       'UnitPrice','Quantity','TotalCost','Cluster_Group 1', 'Cluster_Group 2', \n",
    "                       'Cluster_Group 3', 'Cluster_Group 4']]\n",
    "data_pred_full.head()"
   ]
  },
  {
   "cell_type": "code",
   "execution_count": 17,
   "metadata": {
    "scrolled": true
   },
   "outputs": [
    {
     "data": {
      "text/html": [
       "<div>\n",
       "<style scoped>\n",
       "    .dataframe tbody tr th:only-of-type {\n",
       "        vertical-align: middle;\n",
       "    }\n",
       "\n",
       "    .dataframe tbody tr th {\n",
       "        vertical-align: top;\n",
       "    }\n",
       "\n",
       "    .dataframe thead th {\n",
       "        text-align: right;\n",
       "    }\n",
       "</style>\n",
       "<table border=\"1\" class=\"dataframe\">\n",
       "  <thead>\n",
       "    <tr style=\"text-align: right;\">\n",
       "      <th></th>\n",
       "      <th>cancellation_list</th>\n",
       "      <th>Months</th>\n",
       "      <th>Days</th>\n",
       "      <th>Hours</th>\n",
       "      <th>DayOfMonth</th>\n",
       "      <th>UnitPrice</th>\n",
       "      <th>Cluster_Group 1</th>\n",
       "      <th>Cluster_Group 2</th>\n",
       "      <th>Cluster_Group 3</th>\n",
       "      <th>Cluster_Group 4</th>\n",
       "    </tr>\n",
       "  </thead>\n",
       "  <tbody>\n",
       "    <tr>\n",
       "      <td>0</td>\n",
       "      <td>0</td>\n",
       "      <td>12</td>\n",
       "      <td>3</td>\n",
       "      <td>8</td>\n",
       "      <td>1</td>\n",
       "      <td>2.55</td>\n",
       "      <td>0</td>\n",
       "      <td>0</td>\n",
       "      <td>0</td>\n",
       "      <td>1</td>\n",
       "    </tr>\n",
       "    <tr>\n",
       "      <td>1</td>\n",
       "      <td>0</td>\n",
       "      <td>12</td>\n",
       "      <td>3</td>\n",
       "      <td>8</td>\n",
       "      <td>1</td>\n",
       "      <td>1.85</td>\n",
       "      <td>0</td>\n",
       "      <td>0</td>\n",
       "      <td>0</td>\n",
       "      <td>1</td>\n",
       "    </tr>\n",
       "    <tr>\n",
       "      <td>2</td>\n",
       "      <td>0</td>\n",
       "      <td>12</td>\n",
       "      <td>3</td>\n",
       "      <td>8</td>\n",
       "      <td>1</td>\n",
       "      <td>1.69</td>\n",
       "      <td>0</td>\n",
       "      <td>0</td>\n",
       "      <td>0</td>\n",
       "      <td>1</td>\n",
       "    </tr>\n",
       "    <tr>\n",
       "      <td>3</td>\n",
       "      <td>0</td>\n",
       "      <td>12</td>\n",
       "      <td>3</td>\n",
       "      <td>8</td>\n",
       "      <td>1</td>\n",
       "      <td>4.25</td>\n",
       "      <td>0</td>\n",
       "      <td>0</td>\n",
       "      <td>0</td>\n",
       "      <td>1</td>\n",
       "    </tr>\n",
       "    <tr>\n",
       "      <td>4</td>\n",
       "      <td>0</td>\n",
       "      <td>12</td>\n",
       "      <td>3</td>\n",
       "      <td>8</td>\n",
       "      <td>1</td>\n",
       "      <td>5.95</td>\n",
       "      <td>0</td>\n",
       "      <td>0</td>\n",
       "      <td>0</td>\n",
       "      <td>1</td>\n",
       "    </tr>\n",
       "  </tbody>\n",
       "</table>\n",
       "</div>"
      ],
      "text/plain": [
       "   cancellation_list  Months  Days  Hours  DayOfMonth  UnitPrice  \\\n",
       "0                  0      12     3      8           1       2.55   \n",
       "1                  0      12     3      8           1       1.85   \n",
       "2                  0      12     3      8           1       1.69   \n",
       "3                  0      12     3      8           1       4.25   \n",
       "4                  0      12     3      8           1       5.95   \n",
       "\n",
       "   Cluster_Group 1  Cluster_Group 2  Cluster_Group 3  Cluster_Group 4  \n",
       "0                0                0                0                1  \n",
       "1                0                0                0                1  \n",
       "2                0                0                0                1  \n",
       "3                0                0                0                1  \n",
       "4                0                0                0                1  "
      ]
     },
     "execution_count": 17,
     "metadata": {},
     "output_type": "execute_result"
    }
   ],
   "source": [
    "#data_pred : all numerical data from dataset except Quantity and TotalCost\n",
    "data_pred = data_pred[['cancellation_list','Months', 'Days', 'Hours', 'DayOfMonth',\n",
    "                       'UnitPrice', 'Cluster_Group 1', 'Cluster_Group 2', \n",
    "                       'Cluster_Group 3', 'Cluster_Group 4']]\n",
    "data_pred.head()"
   ]
  },
  {
   "cell_type": "markdown",
   "metadata": {},
   "source": [
    "### 2. Data Splitting"
   ]
  },
  {
   "cell_type": "code",
   "execution_count": 18,
   "metadata": {},
   "outputs": [],
   "source": [
    "#Splitting Feature and Target Variable for data_prep dataset\n",
    "x = data_pred.drop(['cancellation_list'], axis=1)\n",
    "y = data_pred['cancellation_list'].values"
   ]
  },
  {
   "cell_type": "code",
   "execution_count": 19,
   "metadata": {},
   "outputs": [],
   "source": [
    "#Splitting Feature and target variable for data_prep_full dataset\n",
    "x_2 = data_pred_full.drop(['cancellation_list'], axis=1)\n",
    "y_2 = data_pred_full['cancellation_list'].values"
   ]
  },
  {
   "cell_type": "code",
   "execution_count": 20,
   "metadata": {},
   "outputs": [],
   "source": [
    "#Splitting Train and Test data for both data_prep and data_prep dataset\n",
    "from sklearn.model_selection import train_test_split\n",
    "\n",
    "x_train, x_test, y_train, y_test = train_test_split(x, y, test_size=0.2, random_state=0)\n",
    "x_2train, x_2test, y_2train, y_2test = train_test_split(x_2, y_2, test_size=0.2, random_state=0)"
   ]
  },
  {
   "cell_type": "markdown",
   "metadata": {},
   "source": [
    "### 3. Fitting and Predicting Model"
   ]
  },
  {
   "cell_type": "code",
   "execution_count": 21,
   "metadata": {},
   "outputs": [
    {
     "data": {
      "text/plain": [
       "RandomForestClassifier(bootstrap=True, ccp_alpha=0.0, class_weight=None,\n",
       "                       criterion='gini', max_depth=10, max_features='auto',\n",
       "                       max_leaf_nodes=None, max_samples=None,\n",
       "                       min_impurity_decrease=0.0, min_impurity_split=None,\n",
       "                       min_samples_leaf=1, min_samples_split=2,\n",
       "                       min_weight_fraction_leaf=0.0, n_estimators=1000,\n",
       "                       n_jobs=None, oob_score=False, random_state=None,\n",
       "                       verbose=0, warm_start=False)"
      ]
     },
     "execution_count": 21,
     "metadata": {},
     "output_type": "execute_result"
    }
   ],
   "source": [
    "from sklearn.ensemble import RandomForestClassifier\n",
    "from sklearn.linear_model import LogisticRegression\n",
    "\n",
    "#Fitting model with train data from data_prep and data_prep_full\n",
    "model_RF = RandomForestClassifier(n_estimators = 1000, max_depth = 10)\n",
    "model_RF.fit(x_train, y_train)\n",
    "model_RF.fit(x_2train, y_2train)"
   ]
  },
  {
   "cell_type": "code",
   "execution_count": 22,
   "metadata": {},
   "outputs": [],
   "source": [
    "#Predicting Model from data_prep_full\n",
    "y_pred_RF_2 = model_RF.predict(x_2test)"
   ]
  },
  {
   "cell_type": "code",
   "execution_count": 23,
   "metadata": {},
   "outputs": [],
   "source": [
    "#Predicting Model from data_prep\n",
    "model_RF = RandomForestClassifier(n_estimators = 1000, max_depth = 10)\n",
    "model_RF.fit(x_train, y_train)\n",
    "y_pred_RF = model_RF.predict(x_test)"
   ]
  },
  {
   "cell_type": "markdown",
   "metadata": {},
   "source": [
    "### 4. Model Visualization and Evaluation"
   ]
  },
  {
   "cell_type": "code",
   "execution_count": 24,
   "metadata": {},
   "outputs": [
    {
     "data": {
      "image/png": "[encoded data removed]",
      "text/plain": [
       "<Figure size 576x360 with 2 Axes>"
      ]
     },
     "metadata": {
      "needs_background": "light"
     },
     "output_type": "display_data"
    },
    {
     "name": "stdout",
     "output_type": "stream",
     "text": [
      "              precision    recall  f1-score   support\n",
      "\n",
      "           0       0.84      0.99      0.91      3671\n",
      "           1       0.71      0.09      0.16       767\n",
      "\n",
      "    accuracy                           0.84      4438\n",
      "   macro avg       0.78      0.54      0.54      4438\n",
      "weighted avg       0.82      0.84      0.78      4438\n",
      "\n"
     ]
    }
   ],
   "source": [
    "from sklearn.metrics import confusion_matrix\n",
    "from sklearn.metrics import classification_report\n",
    "\n",
    "confusion_matrix(y_test, y_pred_RF) \n",
    "\n",
    "#Visualizing Confusion Matrix\n",
    "f, ax = plt.subplots(figsize=(8,5))\n",
    "sns.heatmap(confusion_matrix(y_test, y_pred_RF), annot=True, fmt=\".0f\", ax=ax)\n",
    "plt.xlabel(\"y Aktual\")\n",
    "plt.ylabel(\"y Prediksi\")\n",
    "plt.title('')\n",
    "plt.show()\n",
    "\n",
    "# Confusion Matrix Report\n",
    "print(classification_report(y_test, y_pred_RF))"
   ]
  },
  {
   "cell_type": "markdown",
   "metadata": {},
   "source": [
    "## Section 4 : Model Optimization\n",
    "here are key points that i done in trying to optimize my model :\n",
    "1. Handling Imbalance Data Using over and under sampling (SMOTE and NearMiss)\n",
    "2. Hyperparameter Tuning Using RandomizedSearchCV"
   ]
  },
  {
   "cell_type": "markdown",
   "metadata": {},
   "source": [
    "### 1. Handling Imbalance 01 : Oversampling using SMOTE for data_prep"
   ]
  },
  {
   "cell_type": "code",
   "execution_count": 25,
   "metadata": {},
   "outputs": [
    {
     "name": "stdout",
     "output_type": "stream",
     "text": [
      "Before OverSampling, counts of label '1': 2887\n",
      "Before OverSampling, counts of label '0': 14865 \n",
      "\n",
      "After OverSampling, the shape of train_X: (29730, 9)\n",
      "After OverSampling, the shape of train_y: (29730,) \n",
      "\n",
      "After OverSampling, counts of label '1': 14865\n",
      "After OverSampling, counts of label '0': 14865\n"
     ]
    }
   ],
   "source": [
    "\n",
    "print(\"Before OverSampling, counts of label '1': {}\".format(sum(y_train == 1))) \n",
    "print(\"Before OverSampling, counts of label '0': {} \\n\".format(sum(y_train == 0))) \n",
    "  \n",
    "# import SMOTE module from imblearn library \n",
    "from imblearn.over_sampling import SMOTE \n",
    "sm = SMOTE(random_state = 2) \n",
    "x_train_res, y_train_res = sm.fit_sample(x_train, y_train.ravel()) \n",
    "  \n",
    "print('After OverSampling, the shape of train_X: {}'.format(x_train_res.shape)) \n",
    "print('After OverSampling, the shape of train_y: {} \\n'.format(y_train_res.shape)) \n",
    "  \n",
    "print(\"After OverSampling, counts of label '1': {}\".format(sum(y_train_res == 1))) \n",
    "print(\"After OverSampling, counts of label '0': {}\".format(sum(y_train_res == 0)))"
   ]
  },
  {
   "cell_type": "code",
   "execution_count": 26,
   "metadata": {
    "scrolled": true
   },
   "outputs": [
    {
     "name": "stdout",
     "output_type": "stream",
     "text": [
      "              precision    recall  f1-score   support\n",
      "\n",
      "           0       0.86      0.88      0.87      3671\n",
      "           1       0.37      0.33      0.35       767\n",
      "\n",
      "    accuracy                           0.79      4438\n",
      "   macro avg       0.62      0.61      0.61      4438\n",
      "weighted avg       0.78      0.79      0.78      4438\n",
      "\n"
     ]
    }
   ],
   "source": [
    "model_RF = RandomForestClassifier()\n",
    "model_RF.fit(x_train_res, y_train_res.ravel())\n",
    "\n",
    "y_pred_RF = model_RF.predict(x_test)\n",
    "\n",
    "# Confusion Matrix Report\n",
    "print(classification_report(y_test, y_pred_RF))"
   ]
  },
  {
   "cell_type": "markdown",
   "metadata": {},
   "source": [
    "### 2. Handling Imbalance 02 : Undersampling using NearMiss for data_prep"
   ]
  },
  {
   "cell_type": "code",
   "execution_count": 27,
   "metadata": {},
   "outputs": [
    {
     "name": "stdout",
     "output_type": "stream",
     "text": [
      "Before Undersampling, counts of label '1': 2887\n",
      "Before Undersampling, counts of label '0': 14865 \n",
      "\n",
      "After Undersampling, the shape of train_X: (5774, 9)\n",
      "After Undersampling, the shape of train_y: (5774,) \n",
      "\n",
      "After Undersampling, counts of label '1': 2887\n",
      "After Undersampling, counts of label '0': 2887\n"
     ]
    }
   ],
   "source": [
    "print(\"Before Undersampling, counts of label '1': {}\".format(sum(y_train == 1))) \n",
    "print(\"Before Undersampling, counts of label '0': {} \\n\".format(sum(y_train == 0))) \n",
    "  \n",
    "# apply near miss \n",
    "from imblearn.under_sampling import NearMiss \n",
    "nr = NearMiss() \n",
    "  \n",
    "X_train_miss, y_train_miss = nr.fit_sample(x_train, y_train.ravel()) \n",
    "  \n",
    "print('After Undersampling, the shape of train_X: {}'.format(X_train_miss.shape)) \n",
    "print('After Undersampling, the shape of train_y: {} \\n'.format(y_train_miss.shape)) \n",
    "  \n",
    "print(\"After Undersampling, counts of label '1': {}\".format(sum(y_train_miss == 1))) \n",
    "print(\"After Undersampling, counts of label '0': {}\".format(sum(y_train_miss == 0)))"
   ]
  },
  {
   "cell_type": "code",
   "execution_count": 28,
   "metadata": {},
   "outputs": [
    {
     "name": "stdout",
     "output_type": "stream",
     "text": [
      "              precision    recall  f1-score   support\n",
      "\n",
      "           0       0.88      0.45      0.59      3671\n",
      "           1       0.21      0.70      0.32       767\n",
      "\n",
      "    accuracy                           0.49      4438\n",
      "   macro avg       0.54      0.57      0.46      4438\n",
      "weighted avg       0.76      0.49      0.55      4438\n",
      "\n"
     ]
    }
   ],
   "source": [
    "model_RF = RandomForestClassifier()\n",
    "model_RF.fit(X_train_miss, y_train_miss.ravel())\n",
    "\n",
    "y_pred_RF = model_RF.predict(x_test)\n",
    "\n",
    "# Confusion Matrix Report\n",
    "print(classification_report(y_test, y_pred_RF))"
   ]
  },
  {
   "cell_type": "markdown",
   "metadata": {},
   "source": [
    "### 3. Hyperparameter Tuning Using RandomizedSearchCV for data_prep"
   ]
  },
  {
   "cell_type": "code",
   "execution_count": 29,
   "metadata": {},
   "outputs": [
    {
     "data": {
      "text/plain": [
       "{'max_depth': [10, 20, 30, 40, 50, 60, 70, 80, 90, 100],\n",
       " 'min_samples_leaf': [1, 2, 4],\n",
       " 'min_samples_split': [2, 5, 10],\n",
       " 'n_estimators': [200, 400, 600, 800, 1000, 1200, 1400, 1600, 1800, 2000]}"
      ]
     },
     "execution_count": 29,
     "metadata": {},
     "output_type": "execute_result"
    }
   ],
   "source": [
    "#Set a parameter combination options for randomizedsearch\n",
    "max_depth = [10,20,30,40,50,60,70,80,90,100]\n",
    "min_samples_leaf = [1,2,4]\n",
    "min_samples_split = [2,5,10]\n",
    "n_estimators = [200,400,600,800,1000,1200,1400,1600,1800,2000]\n",
    "\n",
    "param = {'max_depth': max_depth, 'min_samples_leaf': min_samples_leaf, \n",
    "         'min_samples_split': min_samples_split, 'n_estimators': n_estimators}\n",
    "param"
   ]
  },
  {
   "cell_type": "code",
   "execution_count": 30,
   "metadata": {},
   "outputs": [],
   "source": [
    "from sklearn.model_selection import GridSearchCV, RandomizedSearchCV"
   ]
  },
  {
   "cell_type": "code",
   "execution_count": 50,
   "metadata": {},
   "outputs": [],
   "source": [
    "model_RF = RandomForestClassifier()\n",
    "model_RF_RS = RandomizedSearchCV(estimator=model_RF, param_distributions = param, cv = 5)"
   ]
  },
  {
   "cell_type": "code",
   "execution_count": 32,
   "metadata": {},
   "outputs": [
    {
     "data": {
      "text/plain": [
       "{'n_estimators': 1800,\n",
       " 'min_samples_split': 5,\n",
       " 'min_samples_leaf': 2,\n",
       " 'max_depth': 20}"
      ]
     },
     "execution_count": 32,
     "metadata": {},
     "output_type": "execute_result"
    }
   ],
   "source": [
    "model_RF_RS.fit(x_train, y_train)\n",
    "model_RF_RS.best_params_"
   ]
  },
  {
   "cell_type": "code",
   "execution_count": 51,
   "metadata": {},
   "outputs": [
    {
     "data": {
      "text/plain": [
       "0.8391167192429022"
      ]
     },
     "execution_count": 51,
     "metadata": {},
     "output_type": "execute_result"
    }
   ],
   "source": [
    "model_RF_Baru = RandomForestClassifier(n_estimators=1800, \n",
    "                                       min_samples_split= 5,\n",
    "                                       min_samples_leaf= 2,\n",
    "                                       max_depth= 20)\n",
    "\n",
    "model_RF_Baru.fit(x_train, y_train)\n",
    "model_RF_Baru.score(x_test, y_test)"
   ]
  },
  {
   "cell_type": "markdown",
   "metadata": {},
   "source": [
    "### Model Visualization (Model Selected 02)"
   ]
  },
  {
   "cell_type": "code",
   "execution_count": 52,
   "metadata": {},
   "outputs": [],
   "source": [
    "y_pred_RF = model_RF_Baru.predict(x_test)"
   ]
  },
  {
   "cell_type": "code",
   "execution_count": 53,
   "metadata": {},
   "outputs": [
    {
     "data": {
      "image/png": "[encoded data removed]",
      "text/plain": [
       "<Figure size 576x360 with 2 Axes>"
      ]
     },
     "metadata": {
      "needs_background": "light"
     },
     "output_type": "display_data"
    },
    {
     "name": "stdout",
     "output_type": "stream",
     "text": [
      "              precision    recall  f1-score   support\n",
      "\n",
      "           0       0.85      0.98      0.91      3671\n",
      "           1       0.66      0.14      0.24       767\n",
      "\n",
      "    accuracy                           0.84      4438\n",
      "   macro avg       0.75      0.56      0.57      4438\n",
      "weighted avg       0.81      0.84      0.79      4438\n",
      "\n"
     ]
    }
   ],
   "source": [
    "confusion_matrix(y_test, y_pred_RF) \n",
    "\n",
    "#Visualizing Confusion Matrix\n",
    "f, ax = plt.subplots(figsize=(8,5))\n",
    "sns.heatmap(confusion_matrix(y_test, y_pred_RF), annot=True, fmt=\".0f\", ax=ax)\n",
    "plt.xlabel(\"y Aktual\")\n",
    "plt.ylabel(\"y Prediksi\")\n",
    "plt.title('')\n",
    "plt.show()\n",
    "\n",
    "# Confusion Matrix Report\n",
    "print(classification_report(y_test, y_pred_RF))"
   ]
  },
  {
   "cell_type": "code",
   "execution_count": 54,
   "metadata": {},
   "outputs": [
    {
     "data": {
      "text/plain": [
       "array([[3613,   58],\n",
       "       [ 656,  111]], dtype=int64)"
      ]
     },
     "execution_count": 54,
     "metadata": {},
     "output_type": "execute_result"
    }
   ],
   "source": [
    "confusion_matrix(y_test, y_pred_RF) "
   ]
  },
  {
   "cell_type": "code",
   "execution_count": 56,
   "metadata": {},
   "outputs": [
    {
     "data": {
      "text/plain": [
       "['model_final_2']"
      ]
     },
     "execution_count": 56,
     "metadata": {},
     "output_type": "execute_result"
    }
   ],
   "source": [
    "import joblib\n",
    "joblib.dump(model_RF_Baru, 'model_final_2')"
   ]
  },
  {
   "cell_type": "markdown",
   "metadata": {},
   "source": [
    "### 4. Hyperparameter Tuning + Handling Imbalance"
   ]
  },
  {
   "cell_type": "code",
   "execution_count": 37,
   "metadata": {},
   "outputs": [
    {
     "data": {
      "text/plain": [
       "{'n_estimators': 1400,\n",
       " 'min_samples_split': 2,\n",
       " 'min_samples_leaf': 2,\n",
       " 'max_depth': 80}"
      ]
     },
     "execution_count": 37,
     "metadata": {},
     "output_type": "execute_result"
    }
   ],
   "source": [
    "model_RF_RS.fit(x_train_res, y_train_res.ravel())\n",
    "model_RF_RS.best_params_"
   ]
  },
  {
   "cell_type": "code",
   "execution_count": 38,
   "metadata": {},
   "outputs": [
    {
     "data": {
      "text/plain": [
       "0.793600721045516"
      ]
     },
     "execution_count": 38,
     "metadata": {},
     "output_type": "execute_result"
    }
   ],
   "source": [
    "model_RF_Baru_2 = RandomForestClassifier(n_estimators=1600, \n",
    "                                       min_samples_split= 5,\n",
    "                                       min_samples_leaf= 1,\n",
    "                                       max_depth= 30)\n",
    "\n",
    "model_RF_Baru_2.fit(x_train_res, y_train_res.ravel())\n",
    "model_RF_Baru_2.score(x_test, y_test)"
   ]
  },
  {
   "cell_type": "code",
   "execution_count": 39,
   "metadata": {},
   "outputs": [
    {
     "data": {
      "image/png": "[encoded data removed]",
      "text/plain": [
       "<Figure size 576x360 with 2 Axes>"
      ]
     },
     "metadata": {
      "needs_background": "light"
     },
     "output_type": "display_data"
    },
    {
     "name": "stdout",
     "output_type": "stream",
     "text": [
      "              precision    recall  f1-score   support\n",
      "\n",
      "           0       0.86      0.89      0.88      3671\n",
      "           1       0.38      0.31      0.34       767\n",
      "\n",
      "    accuracy                           0.79      4438\n",
      "   macro avg       0.62      0.60      0.61      4438\n",
      "weighted avg       0.78      0.79      0.79      4438\n",
      "\n"
     ]
    }
   ],
   "source": [
    "y_pred_RF = model_RF_Baru_2.predict(x_test)\n",
    "confusion_matrix(y_test, y_pred_RF) \n",
    "\n",
    "#Visualizing Confusion Matrix\n",
    "f, ax = plt.subplots(figsize=(8,5))\n",
    "sns.heatmap(confusion_matrix(y_test, y_pred_RF), annot=True, fmt=\".0f\", ax=ax)\n",
    "plt.xlabel(\"y Aktual\")\n",
    "plt.ylabel(\"y Prediksi\")\n",
    "plt.title('')\n",
    "plt.show()\n",
    "\n",
    "# Confusion Matrix Report\n",
    "print(classification_report(y_test, y_pred_RF))"
   ]
  },
  {
   "cell_type": "markdown",
   "metadata": {},
   "source": [
    "### 5. Model Visualization and evaluation for data_prep"
   ]
  },
  {
   "cell_type": "code",
   "execution_count": 40,
   "metadata": {},
   "outputs": [
    {
     "data": {
      "image/png": "[encoded data removed]",
      "text/plain": [
       "<Figure size 576x360 with 2 Axes>"
      ]
     },
     "metadata": {
      "needs_background": "light"
     },
     "output_type": "display_data"
    },
    {
     "name": "stdout",
     "output_type": "stream",
     "text": [
      "              precision    recall  f1-score   support\n",
      "\n",
      "           0       1.00      1.00      1.00      3671\n",
      "           1       1.00      1.00      1.00       767\n",
      "\n",
      "    accuracy                           1.00      4438\n",
      "   macro avg       1.00      1.00      1.00      4438\n",
      "weighted avg       1.00      1.00      1.00      4438\n",
      "\n"
     ]
    }
   ],
   "source": [
    "confusion_matrix(y_2test, y_pred_RF_2) \n",
    "\n",
    "#Visualizing Confusion Matrix\n",
    "f, ax = plt.subplots(figsize=(8,5))\n",
    "sns.heatmap(confusion_matrix(y_2test, y_pred_RF_2), annot=True, fmt=\".0f\", ax=ax)\n",
    "plt.xlabel(\"y Aktual\")\n",
    "plt.ylabel(\"y Prediksi\")\n",
    "plt.title('')\n",
    "plt.show()\n",
    "\n",
    "# Confusion Matrix Report\n",
    "print(classification_report(y_2test, y_pred_RF_2))"
   ]
  },
  {
   "cell_type": "markdown",
   "metadata": {},
   "source": [
    "### 6. Model Optimization 01 for data_prep : Handling Imbalance data with oversampling using SMOTE"
   ]
  },
  {
   "cell_type": "code",
   "execution_count": 41,
   "metadata": {},
   "outputs": [
    {
     "name": "stdout",
     "output_type": "stream",
     "text": [
      "Before OverSampling, counts of label '1': 2887\n",
      "Before OverSampling, counts of label '0': 14865 \n",
      "\n",
      "After OverSampling, the shape of train_X: (29730, 11)\n",
      "After OverSampling, the shape of train_y: (29730,) \n",
      "\n",
      "After OverSampling, counts of label '1': 14865\n",
      "After OverSampling, counts of label '0': 14865\n"
     ]
    }
   ],
   "source": [
    "print(\"Before OverSampling, counts of label '1': {}\".format(sum(y_train == 1))) \n",
    "print(\"Before OverSampling, counts of label '0': {} \\n\".format(sum(y_train == 0))) \n",
    "  \n",
    "# import SMOTE module from imblearn library \n",
    "from imblearn.over_sampling import SMOTE \n",
    "sm = SMOTE(random_state = 2) \n",
    "x_train_res_2, y_train_res_2 = sm.fit_sample(x_2train, y_2train.ravel()) \n",
    "  \n",
    "print('After OverSampling, the shape of train_X: {}'.format(x_train_res_2.shape)) \n",
    "print('After OverSampling, the shape of train_y: {} \\n'.format(y_train_res_2.shape)) \n",
    "  \n",
    "print(\"After OverSampling, counts of label '1': {}\".format(sum(y_train_res_2 == 1))) \n",
    "print(\"After OverSampling, counts of label '0': {}\".format(sum(y_train_res_2 == 0)))"
   ]
  },
  {
   "cell_type": "code",
   "execution_count": 42,
   "metadata": {},
   "outputs": [
    {
     "name": "stdout",
     "output_type": "stream",
     "text": [
      "              precision    recall  f1-score   support\n",
      "\n",
      "           0       1.00      1.00      1.00      3671\n",
      "           1       1.00      1.00      1.00       767\n",
      "\n",
      "    accuracy                           1.00      4438\n",
      "   macro avg       1.00      1.00      1.00      4438\n",
      "weighted avg       1.00      1.00      1.00      4438\n",
      "\n"
     ]
    }
   ],
   "source": [
    "model_RF = RandomForestClassifier()\n",
    "model_RF.fit(x_train_res_2, y_train_res_2.ravel())\n",
    "\n",
    "y_pred_RF = model_RF.predict(x_2test)\n",
    "\n",
    "# Confusion Matrix Report\n",
    "print(classification_report(y_2test, y_pred_RF))"
   ]
  },
  {
   "cell_type": "markdown",
   "metadata": {},
   "source": [
    "### 7. Model Optimization 02 for data_prep : Handling Imbalance data with undersampling using NearMiss"
   ]
  },
  {
   "cell_type": "code",
   "execution_count": 43,
   "metadata": {
    "scrolled": true
   },
   "outputs": [
    {
     "name": "stdout",
     "output_type": "stream",
     "text": [
      "Before Undersampling, counts of label '1': 2887\n",
      "Before Undersampling, counts of label '0': 14865 \n",
      "\n",
      "After Undersampling, the shape of train_X: (5774, 11)\n",
      "After Undersampling, the shape of train_y: (5774,) \n",
      "\n",
      "After Undersampling, counts of label '1': 2887\n",
      "After Undersampling, counts of label '0': 2887\n"
     ]
    }
   ],
   "source": [
    "print(\"Before Undersampling, counts of label '1': {}\".format(sum(y_train == 1))) \n",
    "print(\"Before Undersampling, counts of label '0': {} \\n\".format(sum(y_train == 0))) \n",
    "  \n",
    "# apply near miss \n",
    "from imblearn.under_sampling import NearMiss \n",
    "nr = NearMiss() \n",
    "  \n",
    "X_train_miss_2, y_train_miss_2 = nr.fit_sample(x_2train, y_2train.ravel()) \n",
    "  \n",
    "print('After Undersampling, the shape of train_X: {}'.format(X_train_miss_2.shape)) \n",
    "print('After Undersampling, the shape of train_y: {} \\n'.format(y_train_miss_2.shape)) \n",
    "  \n",
    "print(\"After Undersampling, counts of label '1': {}\".format(sum(y_train_miss_2 == 1))) \n",
    "print(\"After Undersampling, counts of label '0': {}\".format(sum(y_train_miss_2 == 0)))"
   ]
  },
  {
   "cell_type": "markdown",
   "metadata": {},
   "source": [
    "### Model Optimization 03 for data_prep_full with Cross Validation (hyperparameter) using RandomizedSearchCV"
   ]
  },
  {
   "cell_type": "code",
   "execution_count": 44,
   "metadata": {},
   "outputs": [
    {
     "name": "stdout",
     "output_type": "stream",
     "text": [
      "              precision    recall  f1-score   support\n",
      "\n",
      "           0       1.00      1.00      1.00      3671\n",
      "           1       1.00      1.00      1.00       767\n",
      "\n",
      "    accuracy                           1.00      4438\n",
      "   macro avg       1.00      1.00      1.00      4438\n",
      "weighted avg       1.00      1.00      1.00      4438\n",
      "\n"
     ]
    }
   ],
   "source": [
    "model_RF = RandomForestClassifier()\n",
    "model_RF.fit(X_train_miss_2, y_train_miss_2.ravel())\n",
    "\n",
    "y_pred_RF = model_RF.predict(x_2test)\n",
    "\n",
    "# Confusion Matrix Report\n",
    "print(classification_report(y_2test, y_pred_RF))"
   ]
  },
  {
   "cell_type": "code",
   "execution_count": 45,
   "metadata": {},
   "outputs": [
    {
     "data": {
      "text/plain": [
       "{'n_estimators': 2000,\n",
       " 'min_samples_split': 10,\n",
       " 'min_samples_leaf': 4,\n",
       " 'max_depth': 60}"
      ]
     },
     "execution_count": 45,
     "metadata": {},
     "output_type": "execute_result"
    }
   ],
   "source": [
    "model_RF_RS.fit(x_2train, y_2train)\n",
    "model_RF_RS.best_params_"
   ]
  },
  {
   "cell_type": "code",
   "execution_count": 46,
   "metadata": {},
   "outputs": [
    {
     "data": {
      "text/plain": [
       "1.0"
      ]
     },
     "execution_count": 46,
     "metadata": {},
     "output_type": "execute_result"
    }
   ],
   "source": [
    "model_RF_Baru = RandomForestClassifier(n_estimators=1600, \n",
    "                                       min_samples_split= 5,\n",
    "                                       min_samples_leaf= 1,\n",
    "                                       max_depth= 30)\n",
    "\n",
    "model_RF_Baru.fit(x_2train, y_2train)\n",
    "model_RF_Baru.score(x_2test, y_2test)"
   ]
  },
  {
   "cell_type": "markdown",
   "metadata": {},
   "source": [
    "## Model Visualization and Evaluation (MODEL SELECTED 02)"
   ]
  },
  {
   "cell_type": "code",
   "execution_count": 47,
   "metadata": {
    "scrolled": false
   },
   "outputs": [
    {
     "data": {
      "image/png": "[encoded data removed]",
      "text/plain": [
       "<Figure size 576x360 with 2 Axes>"
      ]
     },
     "metadata": {
      "needs_background": "light"
     },
     "output_type": "display_data"
    },
    {
     "name": "stdout",
     "output_type": "stream",
     "text": [
      "              precision    recall  f1-score   support\n",
      "\n",
      "           0       1.00      1.00      1.00      3671\n",
      "           1       1.00      1.00      1.00       767\n",
      "\n",
      "    accuracy                           1.00      4438\n",
      "   macro avg       1.00      1.00      1.00      4438\n",
      "weighted avg       1.00      1.00      1.00      4438\n",
      "\n"
     ]
    }
   ],
   "source": [
    "y_pred_RF = model_RF_Baru.predict(x_2test)\n",
    "confusion_matrix(y_2test, y_pred_RF) \n",
    "\n",
    "#Visualizing Confusion Matrix\n",
    "f, ax = plt.subplots(figsize=(8,5))\n",
    "sns.heatmap(confusion_matrix(y_2test, y_pred_RF), annot=True, fmt=\".0f\", ax=ax)\n",
    "plt.xlabel(\"y Aktual\")\n",
    "plt.ylabel(\"y Prediksi\")\n",
    "plt.title('')\n",
    "plt.show()\n",
    "\n",
    "# Confusion Matrix Report\n",
    "print(classification_report(y_2test, y_pred_RF))"
   ]
  },
  {
   "cell_type": "code",
   "execution_count": 48,
   "metadata": {},
   "outputs": [
    {
     "data": {
      "text/plain": [
       "array([[3671,    0],\n",
       "       [   0,  767]], dtype=int64)"
      ]
     },
     "execution_count": 48,
     "metadata": {},
     "output_type": "execute_result"
    }
   ],
   "source": [
    "confusion_matrix(y_2test, y_pred_RF)"
   ]
  },
  {
   "cell_type": "code",
   "execution_count": 49,
   "metadata": {},
   "outputs": [
    {
     "data": {
      "image/png": "[encoded data removed]",
      "text/plain": [
       "<Figure size 576x360 with 2 Axes>"
      ]
     },
     "metadata": {
      "needs_background": "light"
     },
     "output_type": "display_data"
    },
    {
     "name": "stdout",
     "output_type": "stream",
     "text": [
      "              precision    recall  f1-score   support\n",
      "\n",
      "           0       1.00      1.00      1.00      3671\n",
      "           1       1.00      1.00      1.00       767\n",
      "\n",
      "    accuracy                           1.00      4438\n",
      "   macro avg       1.00      1.00      1.00      4438\n",
      "weighted avg       1.00      1.00      1.00      4438\n",
      "\n"
     ]
    }
   ],
   "source": [
    "y_pred_RF = model_RF_Baru.predict(x_2test)\n",
    "confusion_matrix(y_2test, y_pred_RF) \n",
    "\n",
    "#Visualizing Confusion Matrix\n",
    "f, ax = plt.subplots(figsize=(8,5))\n",
    "sns.heatmap(confusion_matrix(y_2test, y_pred_RF), annot=True, fmt=\".0f\", ax=ax)\n",
    "plt.xlabel(\"y Aktual\")\n",
    "plt.ylabel(\"y Prediksi\")\n",
    "plt.title('')\n",
    "plt.show()\n",
    "\n",
    "# Confusion Matrix Report\n",
    "print(classification_report(y_2test, y_pred_RF))"
   ]
  },
  {
   "cell_type": "markdown",
   "metadata": {},
   "source": [
    "### Saving Model Using Joblib for DASHBOARD"
   ]
  },
  {
   "cell_type": "code",
   "execution_count": 55,
   "metadata": {
    "scrolled": false
   },
   "outputs": [
    {
     "data": {
      "text/plain": [
       "['model_final_1']"
      ]
     },
     "execution_count": 55,
     "metadata": {},
     "output_type": "execute_result"
    }
   ],
   "source": [
    "import joblib\n",
    "joblib.dump(model_RF_Baru, 'model_final_1')"
   ]
  },
  {
   "cell_type": "code",
   "execution_count": 56,
   "metadata": {},
   "outputs": [],
   "source": [
    "model_final = joblib.load('model_final_1')"
   ]
  },
  {
   "cell_type": "code",
   "execution_count": null,
   "metadata": {},
   "outputs": [],
   "source": []
  }
 ],
 "metadata": {
  "kernelspec": {
   "display_name": "Python 3",
   "language": "python",
   "name": "python3"
  },
  "language_info": {
   "codemirror_mode": {
    "name": "ipython",
    "version": 3
   },
   "file_extension": ".py",
   "mimetype": "text/x-python",
   "name": "python",
   "nbconvert_exporter": "python",
   "pygments_lexer": "ipython3",
   "version": "3.7.4"
  }
 },
 "nbformat": 4,
 "nbformat_minor": 2
}
